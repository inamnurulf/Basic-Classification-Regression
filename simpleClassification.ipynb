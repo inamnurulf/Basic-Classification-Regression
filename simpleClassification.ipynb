{
 "cells": [
  {
   "cell_type": "code",
   "execution_count": 10,
   "metadata": {},
   "outputs": [],
   "source": [
    "def train_perceptron(X, y, learning_rate=0.1, max_epochs=1000):\n",
    "\n",
    "    \n",
    "    # Initialize weights and bias\n",
    "    n_samples, n_features = X.shape\n",
    "    w = np.zeros(n_features)\n",
    "    b = 0\n",
    "    \n",
    "    # Train the perceptron\n",
    "    for epoch in range(max_epochs):\n",
    "        for i in range(n_samples):\n",
    "            # Compute the activation of the perceptron for this sample\n",
    "            activation = np.dot(X[i], w) + b\n",
    "            \n",
    "            # Update the weights and bias if the prediction is incorrect\n",
    "            if y[i]*activation <= 0:\n",
    "                w += learning_rate * y[i] * X[i]\n",
    "                b += learning_rate * y[i]\n",
    "                \n",
    "    return w, b\n"
   ]
  },
  {
   "cell_type": "code",
   "execution_count": 11,
   "metadata": {},
   "outputs": [
    {
     "name": "stdout",
     "output_type": "stream",
     "text": [
      "Learned weights: [0.2 0. ]\n",
      "Learned bias: 0.0\n"
     ]
    }
   ],
   "source": [
    "import numpy as np\n",
    "\n",
    "# Create a small dataset for binary classification\n",
    "X = np.array([[1, 2], [2, 1], [-1, 2], [-2, 1]])\n",
    "y = np.array([1, 1, -1, -1])\n",
    "\n",
    "# Train a perceptron on the dataset\n",
    "w, b = train_perceptron(X, y)\n",
    "\n",
    "# Print the learned weights and bias\n",
    "print(\"Learned weights:\", w)\n",
    "print(\"Learned bias:\", b)\n"
   ]
  },
  {
   "cell_type": "code",
   "execution_count": 12,
   "metadata": {},
   "outputs": [],
   "source": [
    "def predict_perceptron(X, w, b):\n",
    "    \n",
    "    # Compute the activations of the perceptron for the input data\n",
    "    activations = np.dot(X, w) + b\n",
    "    \n",
    "    # Predict the class labels based on the sign of the activations\n",
    "    y_pred = np.sign(activations)\n",
    "    \n",
    "    return y_pred\n"
   ]
  },
  {
   "cell_type": "code",
   "execution_count": 14,
   "metadata": {},
   "outputs": [
    {
     "name": "stdout",
     "output_type": "stream",
     "text": [
      "Predicted class labels: [ 1. -1.  1.]\n"
     ]
    }
   ],
   "source": [
    "# Create some test input\n",
    "X_test = np.array([[3, 2], [-2, -1], [1, 0]])\n",
    "\n",
    "# Predict the class labels of the test input using the learned perceptron\n",
    "y_pred = predict_perceptron(X_test, w, b)\n",
    "\n",
    "# Print the predicted class labels\n",
    "print(\"Predicted class labels:\", y_pred)\n"
   ]
  }
 ],
 "metadata": {
  "kernelspec": {
   "display_name": "base",
   "language": "python",
   "name": "python3"
  },
  "language_info": {
   "codemirror_mode": {
    "name": "ipython",
    "version": 3
   },
   "file_extension": ".py",
   "mimetype": "text/x-python",
   "name": "python",
   "nbconvert_exporter": "python",
   "pygments_lexer": "ipython3",
   "version": "3.9.13"
  },
  "orig_nbformat": 4
 },
 "nbformat": 4,
 "nbformat_minor": 2
}
