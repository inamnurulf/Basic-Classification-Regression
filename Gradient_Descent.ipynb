{
  "nbformat": 4,
  "nbformat_minor": 0,
  "metadata": {
    "colab": {
      "provenance": []
    },
    "kernelspec": {
      "name": "python3",
      "display_name": "Python 3"
    },
    "language_info": {
      "name": "python"
    }
  },
  "cells": [
    {
      "cell_type": "markdown",
      "source": [
        "# Importing and Pre-processing Dataset"
      ],
      "metadata": {
        "id": "Sd_xoUQTduNl"
      }
    },
    {
      "cell_type": "code",
      "execution_count": 1,
      "metadata": {
        "id": "OxTyZQKa42BD"
      },
      "outputs": [],
      "source": [
        "#@title Import Dataset\n",
        "#@markdown Dataset taken from [here](https://raw.githubusercontent.com/selva86/datasets/master/Cars93.csv)\n",
        "import pandas as pd\n",
        "df = pd.read_csv('https://raw.githubusercontent.com/selva86/datasets/master/Cars93.csv')\n",
        "\n",
        "print_dataset = False #@param {type:\"boolean\"}\n",
        "if print_dataset:\n",
        "  print(df.to_string())"
      ]
    },
    {
      "cell_type": "code",
      "source": [
        "#@title Remove irrelevant variables\n",
        "#@markdown Removes:\n",
        "\n",
        "#@markdown \"Manufacturer\", \"Model\", \"DriveTrain\", \"Type\", \"Origin\", \"Make\", \"AirBags\", \"Min.Price\", \"Max.Price\"\n",
        "df2=df.drop(columns={'Manufacturer','Model','DriveTrain','Type','Origin','Make','AirBags','Min.Price','Max.Price'}, axis=1)\n",
        "\n",
        "print_dataset = False #@param {type:\"boolean\"}\n",
        "if print_dataset:\n",
        "  print(df.to_string())"
      ],
      "metadata": {
        "id": "SFPpUfYq5ewd"
      },
      "execution_count": 2,
      "outputs": []
    },
    {
      "cell_type": "code",
      "source": [
        "#@title Pre-process string data to number\n",
        "df2.replace({'Man.trans.avail':{\"Yes\":1,\"No\":0}},inplace=True)\n",
        "df2 = df2[df2.Cylinders != 'rotary']\n",
        "df2=df2.dropna(axis=0)\n",
        "df2=df2.astype(float)\n",
        "\n",
        "print_data_types = False #@param {type:\"boolean\"}\n",
        "if print_data_types:\n",
        "  print(df2.dtypes)\n",
        "print_dataset = False #@param {type:\"boolean\"}\n",
        "if print_dataset:\n",
        "  print(df.to_string())"
      ],
      "metadata": {
        "id": "phtu1nnv5IaY"
      },
      "execution_count": 3,
      "outputs": []
    },
    {
      "cell_type": "code",
      "source": [
        "#@title Convert dataframe to NumPy\n",
        "import numpy as np\n",
        "\n",
        "#@markdown Only uses \"Horsepower\" and \"Fuel.tank.capacity\" as input variables to predict \"Price\"\n",
        "Price                 = df2['Price'].values\n",
        "# MPGcity              = df2['MPG.city'].values\n",
        "# MPGhighway           = df2['MPG.highway'].values\n",
        "# Cylinders             = df2['Cylinders'].values\n",
        "# EngineSize            = df2['EngineSize'].values\n",
        "Horsepower            = df2['Horsepower'].values\n",
        "# RPM                   = df2['RPM'].values\n",
        "# Revpermile          = df2['Rev.per.mile'].values\n",
        "# Mantransavail       = df2['Man.trans.avail'].values\n",
        "Fueltankcapacity    = df2['Fuel.tank.capacity'].values\n",
        "# Passengers            = df2['Passengers'].values\n",
        "# Length                = df2['Length'].values\n",
        "# Wheelbase             = df2['Wheelbase'].values\n",
        "# Width                 = df2['Width'].values\n",
        "# Turncircle           = df2['Turn.circle'].values\n",
        "# Rearseatroom        = df2['Rear.seat.room'].values\n",
        "# Luggageroom          = df2['Luggage.room'].values\n",
        "# Weight                = df2['Weight'].values\n",
        "\n",
        "# Constants\n",
        "m = len(Price)\n",
        "x0 = np.ones(m)\n",
        "\n",
        "#@markdown Input table (X):\n",
        "#@markdown <table> <tr> <th>Constants</th> <th>Horse Power</th> <th>Fuel Tank Capacity</th> </tr> <tr> <td>...</td> <td>...</td> <td>...</td> </tr></table>\n",
        "X = np.array([x0,Horsepower,Fueltankcapacity ]).T\n",
        "\n",
        "print_x_table = False #@param {type:\"boolean\"}\n",
        "if print_x_table:\n",
        "  print(np.array(X))\n",
        "\n",
        "#@markdown Output table (Y):\n",
        "#@markdown <table> <tr> <th>Price</th> </tr> <tr> <td>...</td> </tr></table>\n",
        "Y=df2['Price']\n",
        "\n",
        "print_y_table = False #@param {type:\"boolean\"}\n",
        "if print_y_table:\n",
        "  print(np.array(Y))"
      ],
      "metadata": {
        "id": "J4vQY7RkeSlF"
      },
      "execution_count": 4,
      "outputs": []
    },
    {
      "cell_type": "markdown",
      "source": [
        "# Training\n",
        "Training using Gradient Descent Algorithm"
      ],
      "metadata": {
        "id": "GnLA8c-Gmfpj"
      }
    },
    {
      "cell_type": "code",
      "source": [
        "#@title Initialize Coefficient\n",
        "B = np.array([0, 0, 0])"
      ],
      "metadata": {
        "id": "pV1ZEqQQU-lE"
      },
      "execution_count": 5,
      "outputs": []
    },
    {
      "cell_type": "code",
      "source": [
        "#@title Cost Function\n",
        "#@markdown Cost Function:\n",
        "\n",
        "#@markdown $J(X,Y,B)=\\frac{1}{2m}\\sum(X_{i}\\cdot B - Y_{i})^{2}$\n",
        "def cost_function(X, Y, B):\n",
        "    m = len(Y)\n",
        "    J = np.sum((X.dot(B) - Y) ** 2)/(2 * m)\n",
        "    return J\n",
        "\n",
        "print_initial_cost = False #@param {type:\"boolean\"}\n",
        "if print_initial_cost:\n",
        "  print(\"Initial Cost: \" + str(cost_function(X, Y, B)))"
      ],
      "metadata": {
        "id": "8c1LMm6wDKX5"
      },
      "execution_count": 6,
      "outputs": []
    },
    {
      "cell_type": "code",
      "source": [
        "#@title Gradient Descent Function\n",
        "#@markdown Iteration to train B\n",
        "\n",
        "#@markdown $B_{i+1} = B_{i} - \\frac{\\alpha}{m}X^{T}\\cdot (X\\cdot B_{i} - Y)$\n",
        "def gradient_descent(X, Y, B, alpha, iterations):\n",
        "    cost_history = [0] * iterations\n",
        "    m = len(Y)\n",
        "    \n",
        "    for iteration in range(iterations):\n",
        "        # Hypothesis Values\n",
        "        h = X.dot(B)\n",
        "        # Difference b/w Hypothesis and Actual Y\n",
        "        loss = h - Y\n",
        "        # Gradient Calculation\n",
        "        gradient = X.T.dot(loss) / m\n",
        "        # Changing Values of B using Gradient\n",
        "        B = B - alpha * gradient\n",
        "        # New Cost Value\n",
        "        cost = cost_function(X, Y, B)\n",
        "        cost_history[iteration] = cost\n",
        "        \n",
        "    return B, cost_history"
      ],
      "metadata": {
        "id": "io1-QNK8YSgi"
      },
      "execution_count": 7,
      "outputs": []
    },
    {
      "cell_type": "code",
      "source": [
        "#@title Training\n",
        "#@markdown Alpha should be low for better convergence\n",
        "\n",
        "#@markdown Lower alpha needs more epoch or iteration\n",
        "alpha = 0.000001 #@param {type:\"number\"}\n",
        "epoch = 500 #@param {type:\"integer\"}\n",
        "newB, cost_history = gradient_descent(X, Y, B, 0.000001, 500)\n",
        "\n",
        "print_last_cost_result = False #@param {type:\"boolean\"}\n",
        "if print_last_cost_result:\n",
        "  print(\"Last Cost: \" + str(cost_history[-1]))"
      ],
      "metadata": {
        "id": "EEzUR_1ObkgY"
      },
      "execution_count": 20,
      "outputs": []
    },
    {
      "cell_type": "markdown",
      "source": [
        "# Testing and Error Calculation"
      ],
      "metadata": {
        "id": "hWyC9yra-pux"
      }
    },
    {
      "cell_type": "code",
      "source": [
        "#@title Use the trained coefficient to predict Y from X\n",
        "Y_pred = X.dot(newB)\n",
        "\n",
        "print_y_pred = False #@param {type:\"boolean\"}\n",
        "if print_y_pred:\n",
        "  print(Y_pred)"
      ],
      "metadata": {
        "id": "knKr6yIMdXPA"
      },
      "execution_count": 21,
      "outputs": []
    },
    {
      "cell_type": "code",
      "source": [
        "#@title Define error calculation function\n",
        "#@markdown Root Mean Square Error\n",
        "\n",
        "#@markdown $RMSE = \\sqrt{\\sum \\frac{(Y-Y_{pred})^{2}}{n}}$\n",
        "def rmse(Y, Y_pred):\n",
        "    rmse = np.sqrt(sum((Y - Y_pred) ** 2) / len(Y))\n",
        "    return rmse\n",
        "\n",
        "#@markdown Coefficient of Determination Function\n",
        "\n",
        "#@markdown $R^{2} = 1 - \\frac{(Y-Y_{mean})^{2}}{(Y-Y_{pred})^{2}}$\n",
        "def r2_score(Y, Y_pred):\n",
        "    mean_y = np.mean(Y)\n",
        "    ss_tot = sum((Y - mean_y) ** 2)\n",
        "    ss_res = sum((Y - Y_pred) ** 2)\n",
        "    r2 = 1 - (ss_res / ss_tot)\n",
        "    return r2"
      ],
      "metadata": {
        "id": "VO64PUpvcX6l"
      },
      "execution_count": 10,
      "outputs": []
    },
    {
      "cell_type": "code",
      "source": [
        "#@title Error calculation\n",
        "print(\"Calculated RMSE: \" + str(rmse(Y, Y_pred)))\n",
        "print(\"Calculated R2: \" + str(r2_score(Y, Y_pred)))"
      ],
      "metadata": {
        "colab": {
          "base_uri": "https://localhost:8080/"
        },
        "id": "BAkgP3y5dmyO",
        "outputId": "289ef4ca-8735-4979-d4cf-e1feb2f6a683"
      },
      "execution_count": 22,
      "outputs": [
        {
          "output_type": "stream",
          "name": "stdout",
          "text": [
            "Calculated RMSE: 6.155450707109362\n",
            "Calculated R2: 0.6132865111220462\n"
          ]
        }
      ]
    },
    {
      "cell_type": "markdown",
      "source": [
        "# Inference and Prediction"
      ],
      "metadata": {
        "id": "UUC8ZcHICwGZ"
      }
    },
    {
      "cell_type": "code",
      "source": [
        "#@title Input\n",
        "horse_power = 0 #@param {type:\"number\"}\n",
        "fuel_capacity = 100 #@param {type:\"number\"}"
      ],
      "metadata": {
        "id": "GLNiyLBCCvmT"
      },
      "execution_count": 24,
      "outputs": []
    },
    {
      "cell_type": "code",
      "source": [
        "#@title Predict\n",
        "predicted_price = np.array([1, horse_power, fuel_capacity]).dot(newB)\n",
        "print(\"Predicted Price: \" + str(predicted_price))"
      ],
      "metadata": {
        "colab": {
          "base_uri": "https://localhost:8080/"
        },
        "id": "C182uy9vDeT0",
        "outputId": "473708cc-a598-4da0-9228-53fb87871993"
      },
      "execution_count": 25,
      "outputs": [
        {
          "output_type": "stream",
          "name": "stdout",
          "text": [
            "Predicted Price: 1.4549635825943183\n"
          ]
        }
      ]
    }
  ]
}